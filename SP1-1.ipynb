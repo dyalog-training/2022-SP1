{
 "cells": [
  {
   "cell_type": "markdown",
   "id": "fce79098-eb1e-4604-9074-c529527d63d0",
   "metadata": {},
   "source": [
    "# SP1 Exercises - Primitive Operators"
   ]
  },
  {
   "cell_type": "markdown",
   "id": "61e60db4-e1ef-4235-bc12-654b7f67866d",
   "metadata": {},
   "source": [
    "### **1a)**\n",
    "Write a function to check if two arrays have the same shape.\n",
    "\n",
    "```\n",
    "      (⍪⍳10) SameShape 10 1⍴⎕A\n",
    "1      \n",
    "      (5 10 100∘.×1 ¯1∘.×⍳4) SameShape 3 2 4⍴⎕A\n",
    "1      \n",
    "      (↓⍉'this' 'that') SameShape 1 2 3 4\n",
    "0      \n",
    "```"
   ]
  },
  {
   "cell_type": "markdown",
   "id": "fca41478-734f-4d56-90e7-9b0f4d4b54d8",
   "metadata": {
    "tags": []
   },
   "source": [
    "### **1b)**\n",
    "Write a function to select elements from `⍵` specified by `1`s in a Boolean array `⍺` of the same shape.\n",
    "\n",
    "```\n",
    "      ⎕RL←42 ⋄ b←1=?3 4⍴3 ⋄ a←3 4⍴⎕A\n",
    "      ⎕←a b\n",
    "┌────┬───────┐\n",
    "│ABCD│0 0 1 1│\n",
    "│EFGH│0 0 0 0│\n",
    "│IJKL│0 0 1 0│\n",
    "└────┴───────┘\n",
    "      b SelectFrom a\n",
    "CDK\n",
    "      ⎕RL←42 ⋄ x←1=?5 2 3 4⍴30 ⋄ y←5 2 3 4⍴⎕A\n",
    "      x SelectFrom y\n",
    "HSQTW\n",
    "```"
   ]
  },
  {
   "cell_type": "markdown",
   "id": "e8b9e2cf-a651-4a89-8b17-54f06b80f6cd",
   "metadata": {},
   "source": [
    "### **1c)**\n",
    "Two measurements are given in yards, feet and inches.\n",
    "\n",
    "**12 inches** = **1 foot**  \n",
    "**3 feet** = **1 yard**\n",
    "\n",
    "Write a dop to compare two measurements given by 3-element numeric vectors of yards, feet and inches.\n",
    "\n",
    "```\n",
    "      3 11 6 =_YFI 2 14 6\n",
    "1\n",
    "      5 1 2 >_YFI 3 7 5\n",
    "0      \n",
    "```"
   ]
  },
  {
   "cell_type": "markdown",
   "id": "b63cf2f8-8371-4e43-8047-f72d2f2d64d0",
   "metadata": {},
   "source": [
    "### **1d)**\n",
    "The split on delimiter idiom is quite famous by now."
   ]
  },
  {
   "cell_type": "code",
   "execution_count": 1,
   "id": "5e82e0b6-4120-42bf-955f-42ef97792b2d",
   "metadata": {},
   "outputs": [
    {
     "data": {
      "text/html": [
       "<span style=\"white-space:pre; font-family: monospace\">┌─────┬──┬──────┐\n",
       "│split│on│commas│\n",
       "└─────┴──┴──────┘\n",
       "</span>"
      ]
     },
     "execution_count": 1,
     "metadata": {},
     "output_type": "execute_result"
    }
   ],
   "source": [
    "','(≠⊆⊢)'split,on,commas'"
   ]
  },
  {
   "cell_type": "markdown",
   "id": "ab37f3c8-9182-4b8e-b5c5-bd1640a98466",
   "metadata": {},
   "source": [
    "Modify the split-on-delimiter idiom `(≠⊆⊢)` to allow multiple delimiters.\n",
    "\n",
    "```\n",
    "      ',/' SplitMulti 'comma,or/slash'\n",
    "┌─────┬──┬─────┐\n",
    "│comma│or│slash│\n",
    "└─────┴──┴─────┘\n",
    "```"
   ]
  },
  {
   "cell_type": "markdown",
   "id": "7eafb53c-6044-4462-be06-e6aaa4656254",
   "metadata": {
    "tags": []
   },
   "source": [
    "### **1e)**\n",
    "Modify the split-on-delimiters function to split on only the first delimiter.\n",
    "\n",
    "```\n",
    "      ', /' HeadTail 'split on,first/delimiter'\n",
    "┌─────┬──────────────────┐\n",
    "│split│on,first/delimiter│\n",
    "└─────┴──────────────────┘\n",
    "```"
   ]
  },
  {
   "cell_type": "markdown",
   "id": "77b7e57e-8409-422c-8623-f1db5a1cb910",
   "metadata": {},
   "source": [
    "### **1f**\n",
    "Write a function to check if two vectors are permutations of one another:\n",
    "```\n",
    "      3 8 9 2 5 IsPerm 5 2 9 8 3\n",
    "1\n",
    "      'ABCDE' IsPerm 'ACEDB'\n",
    "1\n",
    "      3 8 9 2 5 IsPerm 5 2 9 7 3\n",
    "0      \n",
    "```"
   ]
  },
  {
   "cell_type": "markdown",
   "id": "3bc73b97-a0d1-4431-801b-7c980fc8b074",
   "metadata": {
    "tags": []
   },
   "source": [
    "### **1g)**\n",
    "This problem is taken from the 2022 APL Problem Solving Competition.\n",
    "\n",
    "Try to use the constant operator `A⍨` in your solution.\n",
    "\n",
    "Write a function that:  \n",
    "- takes a right argument that is a non-decreasing vector or scalar of strictly positive integers, representing a set of scores.\n",
    "- returns a numeric vector of the place for each score; for duplicate scores, it returns the average of the places they hold.\n",
    "\n",
    "```\n",
    "      Ranking 1 2 3 4 5\n",
    "1 2 3 4 5\n",
    "      Ranking 68 71 71 73\n",
    "1 2.5 2.5 4\n",
    "      Ranking 67 68 68 69 70 70 70 71 72\n",
    "1 2.5 2.5 4 6 6 6 8 9\n",
    "      ]repr Ranking ⍬\n",
    "⍬\n",
    "      ]repr Ranking 67\n",
    "(,1)\n",
    "```"
   ]
  }
 ],
 "metadata": {
  "kernelspec": {
   "display_name": "Dyalog APL",
   "language": "apl",
   "name": "dyalog-kernel"
  },
  "language_info": {
   "file_extension": ".apl",
   "mimetype": "text/apl",
   "name": "APL"
  }
 },
 "nbformat": 4,
 "nbformat_minor": 5
}
