{
 "cells": [
  {
   "cell_type": "markdown",
   "id": "aa7df30d-1afb-4471-bf47-31a2506a3683",
   "metadata": {},
   "source": [
    "# SP1 Exercises: System functions"
   ]
  },
  {
   "cell_type": "markdown",
   "id": "495684e9-0219-49f5-8f80-1c1bd884fce9",
   "metadata": {},
   "source": [
    "### **3)**\n",
    "Write a function to determine the year, month and day it will be, `⍵` days after `⍺`. `⍺` is one or more `3↑⎕TS`-style time stamps.\n",
    "\n",
    "```APL\n",
    "      2022 03 15 your_fn 165\n",
    "2022 8 27      \n",
    "      (1985 10 6)(2000 1 1)(1200 5 2) your_fn 365\n",
    "┌─────────┬──────────┬────────┐\n",
    "│1986 10 6│2000 12 31│1201 5 2│\n",
    "└─────────┴──────────┴────────┘      \n",
    "```"
   ]
  },
  {
   "cell_type": "markdown",
   "id": "90827be3-e8e1-4a00-a04e-b35ca687b339",
   "metadata": {},
   "source": [
    "### **3)**\n",
    "Write a function to return a Boolean mask, of the same shape as `⍵`, which could be used in functions defined in **(1e)** and **(2c)** to select occurrances of the word `⍺` in `⍵`. The function should be case insensitive.\n",
    "\n",
    "```APL\n",
    "      'apl' your_fn 3 2 12⍴'ApL is cool'\n",
    "1 1 1 0 0 0 0 0 0 0 0 0\n",
    "0 0 0 0 0 0 0 0 0 0 0 0\n",
    "                       \n",
    "0 0 0 0 0 0 0 0 0 1 1 1\n",
    "0 0 0 0 0 0 0 0 1 1 1 0\n",
    "                       \n",
    "0 0 0 0 0 0 0 1 1 1 0 0\n",
    "0 0 0 0 0 0 1 1 1 0 0 0\n",
    "      \n",
    "      'Μωυσής' your_fn 3 6⍴'ΜΩΥΣΉΣΑΒΡΑΆΜ'\n",
    "1 1 1 1 1 1\n",
    "0 0 0 0 0 0\n",
    "1 1 1 1 1 1      \n",
    "```"
   ]
  },
  {
   "cell_type": "markdown",
   "id": "0cc5608d-b7d0-4a86-a205-f49c87b99a01",
   "metadata": {},
   "source": [
    "### **3)**\n",
    "Write a function that takes\n",
    "\n",
    "- `⍵:` A namespace containing some APL vectors\n",
    "- `⍺:` A 2-row matrix where `⍺[1;]` is names of items in `⍵` which are to be copied into the result, and `⍺[2;]` is the new name.\n",
    "- `←:` Returns a namespace containing items from `⍵` which have been renamed.\n",
    "\n"
   ]
  }
 ],
 "metadata": {
  "kernelspec": {
   "display_name": "Dyalog APL",
   "language": "apl",
   "name": "dyalog-kernel"
  },
  "language_info": {
   "file_extension": ".apl",
   "mimetype": "text/apl",
   "name": "APL"
  }
 },
 "nbformat": 4,
 "nbformat_minor": 5
}
