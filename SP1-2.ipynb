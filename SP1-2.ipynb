{
 "cells": [
  {
   "cell_type": "markdown",
   "id": "3bf3f6b9-663a-4fa1-9285-aa4453bc6fb7",
   "metadata": {},
   "source": [
    "# SP1 Exercises: Primitive functions"
   ]
  },
  {
   "cell_type": "markdown",
   "id": "3b6a3eb5-91a4-41c0-a623-4dcaf1932f20",
   "metadata": {},
   "source": [
    "### **2a)**\n",
    "Write a function to count the number of duplicates major cells in the right argument array.\n",
    "\n",
    "```\n",
    "      CountDupe 'ABCCDDEFG'\n",
    "2\n",
    "      CountDupe 12 2⍴3↑⎕A\n",
    "9      \n",
    "```"
   ]
  },
  {
   "cell_type": "markdown",
   "id": "42b674e9-76bd-4213-a2fa-bf8d3b125696",
   "metadata": {
    "tags": []
   },
   "source": [
    "### **2b)**\n",
    "Write a function to select elements from `⍵` according to an integer array `⍺` of the same shape. The numbers in `⍺` specify how many times to repeat the corresponding element in the same position in `⍵`.\n",
    "\n",
    "```\n",
    "      RandSel ← {b←1=?⍵ ⋄ (?⍺⍴⍨+/,b)@(⍸b)⊢b}      \n",
    "      ⎕RL←42 ⋄ b←3 RandSel 3 4⍴4 ⋄  ⋄ a←3 4⍴⎕A\n",
    "      ⎕←a b\n",
    "┌────┬───────┐\n",
    "│ABCD│0 0 3 3│\n",
    "│EFGH│0 0 0 0│\n",
    "│IJKL│0 0 0 1│\n",
    "└────┴───────┘\n",
    "      b Replicate a\n",
    "CCCDDDL      \n",
    "      ⎕RL←42 ⋄ x←5 RandSel 5 2 3 4⍴30 ⋄ y←5 2 3 4⍴⎕A\n",
    "      x Replicate y\n",
    "HSSQQQQTTTTTWWWWW      \n",
    "```"
   ]
  },
  {
   "cell_type": "markdown",
   "id": "4dda3fc1-cef8-4ade-849d-e438be6f5f8d",
   "metadata": {},
   "source": [
    "### **2c)**\n",
    "Grade boundaries for a test are given in `gb`. Test scores achieved by students are given in `scores`.\n",
    "\n",
    "Write a function `GradeCount` with the syntax:\n",
    "\n",
    "`r ← gb GradeCount scores`\n",
    "\n",
    "Which returns a 2-column matrix `r` in which:\n",
    "\n",
    "- the first column `r[;1]` are the letters `⎕A[⍳≢gb]`\n",
    "- the second column is the count of scores in that grade\n",
    "\n",
    "```\n",
    "      0 40 50 60 70 80 GradeCount 17 55 10 74 85 59 9 32 65 93 89 36 \n",
    "A 5\n",
    "B 0\n",
    "C 2\n",
    "D 1\n",
    "E 1\n",
    "F 3\n",
    "      ⎕RL←42 ⋄ score←?1000⍴100\n",
    "0 10 20 30 40 50 60 70 80 90 GradeCount score\n",
    "A  78\n",
    "B  87\n",
    "C 100\n",
    "D  94\n",
    "E  91\n",
    "F 118\n",
    "G 101\n",
    "H 103\n",
    "I 111\n",
    "J 117\n",
    "      0 30 60 90 GradeCount score\n",
    "A 265\n",
    "B 303\n",
    "C 315\n",
    "D 117\n",
    "```"
   ]
  },
  {
   "cell_type": "markdown",
   "id": "d2b6567f-dbfa-4d59-ac68-128d9e093122",
   "metadata": {},
   "source": [
    "### **2d)**\n",
    "In Iverson's *A Dictionary of APL*, `=⍵` is defined as a **self-classify** function which returns a Boolean matrix.\n",
    "\n",
    "Each row corresponds to a unique major cell (in order of appearance) and each column corresponds to all major cells as they appear in `⍵`. A `1` denotes a match.\n",
    "\n",
    "Write the `Classify` function.\n",
    "\n",
    "```\n",
    "      Classify 'mississippi'\n",
    "1 0 0 0 0 0 0 0 0 0 0\n",
    "0 1 0 0 1 0 0 1 0 0 1\n",
    "0 0 1 1 0 1 1 0 0 0 0\n",
    "0 0 0 0 0 0 0 0 1 1 0\n",
    "      Classify 5 3⍴'ABCD'\n",
    "1 0 0 0 1\n",
    "0 1 0 0 0\n",
    "0 0 1 0 0\n",
    "0 0 0 1 0\n",
    "```"
   ]
  },
  {
   "cell_type": "markdown",
   "id": "1b385949-388b-466e-9cd8-87d064fbc220",
   "metadata": {},
   "source": [
    "### **2e)**\n",
    "Write a function to split its right argument vector with an extra level of nesting. The first partition should start before the first element of `⍵`, and each partition has a length specified by respective elements in the left argument `⍺`.\n",
    "\n",
    "If there are more elements in `⍵` than `+/⍺`, an extra partition contains them.\n",
    "\n",
    "```\n",
    "      3 2 Chunk'ABCDE'\n",
    "┌───┬──┐\n",
    "│ABC│DE│\n",
    "└───┴──┘\n",
    "      3 0 2 Chunk'ABCDE'\n",
    "┌───┬┬──┐\n",
    "│ABC││DE│\n",
    "└───┴┴──┘\n",
    "      1 0 2 Chunk'ABCDE'\n",
    "┌─┬┬──┬──┐\n",
    "│A││BC│DE│\n",
    "└─┴┴──┴──┘\n",
    "      1 0 0 0 1 Chunk'ABCDE'\n",
    "┌─┬┬┬┬─┬───┐\n",
    "│A││││B│CDE│\n",
    "└─┴┴┴┴─┴───┘ \n",
    "```"
   ]
  }
 ],
 "metadata": {
  "kernelspec": {
   "display_name": "Dyalog APL",
   "language": "apl",
   "name": "dyalog-kernel"
  },
  "language_info": {
   "file_extension": ".apl",
   "mimetype": "text/apl",
   "name": "APL"
  }
 },
 "nbformat": 4,
 "nbformat_minor": 5
}
