{
 "cells": [
  {
   "cell_type": "markdown",
   "id": "cbc8ff9f-5fbb-489d-99eb-2016222b7f58",
   "metadata": {},
   "source": [
    "# SP1 Exercises"
   ]
  },
  {
   "cell_type": "markdown",
   "id": "990b7e2a-44a6-4330-a39a-481512ff23bc",
   "metadata": {},
   "source": [
    "## **4a)**\n",
    "Write a monadic operator `_DT` to compare two datetimes provided as character vectors in the format `'YYYY-M-D hh:mm'.\n",
    "\n",
    "```\n",
    "      dt←'1968-05-03 16:30' '2003-08-06 10:27' '1995-01-24 6:56'\n",
    "      ⊢_DT¨dt\n",
    "24960.7 37838.4 34722.3      \n",
    "      ∘.(<_DT)⍨dt\n",
    "0 1 1\n",
    "0 0 0\n",
    "0 1 0      \n",
    "```"
   ]
  },
  {
   "cell_type": "markdown",
   "id": "fe418676-f38a-4834-b01d-63fda35bd253",
   "metadata": {},
   "source": [
    "### **4b)**\n",
    "Write a function to check if its two arguments are of the same rank.\n",
    "\n",
    "```\n",
    "      (2 3⍴⍳5) SameRank ⍪1\n",
    "1\n",
    "      (1 2 3⍴⍳5) SameRank ⍪1\n",
    "0\n",
    "```"
   ]
  },
  {
   "cell_type": "markdown",
   "id": "f2312414-95e9-4c6a-b07b-a6ac48cd7aae",
   "metadata": {},
   "source": [
    "### **4c)**\n",
    "Write a function for which:\n",
    "\n",
    "- `⍺` is an English language datetime as given in examples\n",
    "- `⍵` is an integer number of seconds\n",
    "- `←` returns a datetime in the same format as `⍺`, which is when `⍵` seconds have passed since `⍺`.\n",
    "\n",
    "```\n",
    "      datetime ←⊂ 'Friday 3rd May 1968 16:30:26'\n",
    "      datetime,←⊂ 'Wednesday 6th August 2003 10:27:42'\n",
    "      datetime,←⊂ 'Tuesday 24th January 1995 06:56:12'\n",
    "      \n",
    "      ⍪datetime DTPlus 3600\n",
    "┌──────────────────────────────────┐\n",
    "│Friday 3rd May 1968 17:30:26      │\n",
    "├──────────────────────────────────┤\n",
    "│Wednesday 6th August 2003 11:27:42│\n",
    "├──────────────────────────────────┤\n",
    "│Tuesday 24th January 1995 07:56:12│\n",
    "└──────────────────────────────────┘\n",
    "```"
   ]
  },
  {
   "cell_type": "markdown",
   "id": "615eb57e-021b-4333-bf03-0de4ef8eacac",
   "metadata": {},
   "source": [
    "### **4d)**\n",
    "This example is thanks to Lars Wentzel.\n",
    "\n",
    "We want to compute the remaining available capacity to produce the products that our organisation produces.\n",
    "\n",
    "We produce 7 types of products, labelled A, B, C, D, E, F and G.\n",
    "\n",
    "\n",
    "\n",
    "But we have capacity constraints - we cannot produce however many products we need whenever we need them.\n",
    "\n",
    "A capacity may be a production capacity, a logistic capacity or a market capacity.\n",
    "\n",
    "- Production capacity is estimated from things like how quickly a machine can produce something, or how many hours somebody can work in a day.\n",
    "- Logistic capacity might be how often and how much is the supply of parts.\n",
    "- A market capacity is some kind of restriction on delivery of products - a market quota or transportation capacity.\n",
    "\n",
    "Capacities are expressed as *remaining capacity per week*. In our organisation we have capacities labelled 1 to 5.\n",
    "\n",
    "|Capacity\\Week|2021w46|2021w47|2021w48|2021w49|2021w50|2021w51|2021w52|\n",
    "|---|---|---|---|---|---|---|---|\n",
    "| **1**  | 0  | 100  | 150  | 150  | 150  | 150  | 150 |\n",
    "| **2**  | 0  | 150  | 200  | 200  | 300  | 300  | 300 |\n",
    "| **3**  | 5  | 0    | 30   | 40   | 90   | 90   | 90  |\n",
    "| **4**  | 0  | 50   | 0    | 60   | 30   | 0    | 45  |\n",
    "| **5**  | 0  | 30   | 40   | 30   | 0    | 101  | 99  |"
   ]
  },
  {
   "cell_type": "code",
   "execution_count": 1,
   "id": "30680c36-08c7-447c-b7e0-5cae44cb8cc3",
   "metadata": {},
   "outputs": [
    {
     "data": {
      "text/html": [
       "<span style=\"white-space:pre; font-family: monospace\">0 100 150 150 150 150 150\n",
       "0 150 200 200 300 300 300\n",
       "5   0  30  40  90  90  90\n",
       "0  50   0  60  30   0  45\n",
       "0  30  40  30   0 101  99\n",
       "</span>"
      ]
     },
     "execution_count": 1,
     "metadata": {},
     "output_type": "execute_result"
    }
   ],
   "source": [
    "⎕ ← avail ← 5 7⍴0 100,(5/150),0 150 200 200,(3/300),5 0 30 40,(3/90),0 50 0 60 30 0 45 0 30 40 30 0 101 99"
   ]
  },
  {
   "cell_type": "markdown",
   "id": "e52863d4-e191-4146-aa8d-301974067d30",
   "metadata": {},
   "source": [
    "We also know which capacities are utilised for supplying, manufacturing and delivering each product.\n",
    "\n",
    "Product A uses capacities 1 and 2.  \n",
    "Product B uses capacities 2 and 4.  \n",
    "Product C uses capacity 1.  \n",
    "etc.\n",
    "\n",
    "These relationships can be mapped out in a table:\n",
    "\n",
    "|| 1  | 2  | 3  | 4  | 5 |\n",
    "|---|---|---|---|---|---|\n",
    "| A  |  1  |  1  |  0  |  0  |  0 |\n",
    "| B  |  0  |  1  |  0  |  1  |  0 |\n",
    "| C  |  1  |  0  |  0  |  0  |  0 |\n",
    "| D  |  0  |  0  |  1  |  0  |  1 |\n",
    "| E  |  0  |  1  |  0  |  0  |  1 |\n",
    "| F  |  0  |  0  |  1  |  1  |  0 |\n",
    "| G  |  0  |  1  |  1  |  1  |  0 |\n",
    "\n",
    "Let's calls this the product-capacity **cross** matrix:"
   ]
  },
  {
   "cell_type": "code",
   "execution_count": 2,
   "id": "bf13136d-f748-4761-82cd-26846a007d95",
   "metadata": {},
   "outputs": [
    {
     "data": {
      "text/html": [
       "<span style=\"white-space:pre; font-family: monospace\">1 1 0 0 0\n",
       "0 1 0 1 0\n",
       "1 0 0 0 0\n",
       "0 0 1 0 1\n",
       "0 1 0 0 1\n",
       "0 0 1 1 0\n",
       "0 1 1 1 0\n",
       "</span>"
      ]
     },
     "execution_count": 2,
     "metadata": {},
     "output_type": "execute_result"
    }
   ],
   "source": [
    "⎕ ← cross ← 7 5⍴1 1,(4/0),1 0 1 0 1,(6/0),1 0 1 0 1 0 0 1 0 0 1 1 0 0,(3/1),0"
   ]
  },
  {
   "cell_type": "markdown",
   "id": "dbb0a3b5-833c-49bd-9e85-13acd53adb2e",
   "metadata": {},
   "source": [
    "The remaining available capacity for each product is the **lowest** available of the capacities required for that product.\n",
    "\n",
    "Write a dyadic function `ProductCapacity` to compute the remaining production capacity for each product in each week.\n",
    "\n",
    "For clarity, here is the expected result:\n",
    "\n",
    "|Product\\Week|2021w46|2021w47|2021w48|2021w49|2021w50|2021w51|2021w52|\n",
    "|---|---|---|---|---|---|---|---|\n",
    "|**A**|0  |100  |150  |150  |150  |150  |150 |\n",
    "|**B**|0  |50   |0    |60   |30   |0    |45  |\n",
    "|**C**|0  |100  |150  |150  |150  |150  |150 |\n",
    "|**D**|0  |0    |30   |30   |0    |90   |90  |\n",
    "|**E**|0  |30   |40   |30   |0    |101  |99  |\n",
    "|**F**|0  |0    |0    |40   |30   |0    |45  |\n",
    "|**G**|0  |0    |0    |40   |30   |0    |45  |\n",
    "\n",
    "So the first availability to fullfil an order of **product F** is 2021w49 when 40 units could be produced.\n",
    "\n",
    "```\n",
    "      cross ProductCapacity avail\n",
    "0 100 150 150 150 150 150\n",
    "0  50   0  60  30   0  45\n",
    "0 100 150 150 150 150 150\n",
    "0   0  30  30   0  90  90\n",
    "0  30  40  30   0 101  99\n",
    "0   0   0  40  30   0  45\n",
    "0   0   0  40  30   0  45\n",
    "```"
   ]
  },
  {
   "cell_type": "markdown",
   "id": "54f85067-4504-4c33-89cd-0e7f5bab591e",
   "metadata": {},
   "source": [
    "### **4e)**\n",
    "The CSV file [wimbledon-mens-open.csv](https://raw.githubusercontent.com/dyalog-training/2022-SP1/main/wimbledon-mens-open.csv) contains the Wimbledon men's open tennis singles champions from 1968 to 2022.\n",
    "\n",
    "Write a function `FirstCountryWinner` to extract the first champion for each country represented.\n",
    "\n",
    "```\n",
    "      FirstCountryWinner open\n",
    "┌────┬───┬────────────────┐\n",
    "│1968│AUS│Rod Laver       │\n",
    "├────┼───┼────────────────┤\n",
    "│1972│USA│Stan Smith      │\n",
    "├────┼───┼────────────────┤\n",
    "│1973│TCH│Jan Kodeš       │\n",
    "├────┼───┼────────────────┤\n",
    "│1976│SWE│Björn Borg      │\n",
    "├────┼───┼────────────────┤\n",
    "│1985│FRG│Boris Becker    │\n",
    "├────┼───┼────────────────┤\n",
    "│1991│GER│Michael Stich   │\n",
    "├────┼───┼────────────────┤\n",
    "│1996│NED│Richard Krajicek│\n",
    "├────┼───┼────────────────┤\n",
    "│2001│CRO│Goran Ivanišević│\n",
    "├────┼───┼────────────────┤\n",
    "│2003│SUI│Roger Federer   │\n",
    "├────┼───┼────────────────┤\n",
    "│2008│ESP│Rafael Nadal    │\n",
    "├────┼───┼────────────────┤\n",
    "│2011│SRB│Novak Djokovic  │\n",
    "├────┼───┼────────────────┤\n",
    "│2013│GBR│Andy Murray     │\n",
    "└────┴───┴────────────────┘\n",
    "```"
   ]
  }
 ],
 "metadata": {
  "kernelspec": {
   "display_name": "Dyalog APL",
   "language": "apl",
   "name": "dyalog-kernel"
  },
  "language_info": {
   "file_extension": ".apl",
   "mimetype": "text/apl",
   "name": "APL"
  }
 },
 "nbformat": 4,
 "nbformat_minor": 5
}
